{
 "cells": [
  {
   "cell_type": "markdown",
   "id": "c025e329-0d38-4199-bfcd-a672e1105b22",
   "metadata": {
    "tags": []
   },
   "source": [
    "## Clustering"
   ]
  },
  {
   "cell_type": "markdown",
   "id": "bba250c4-f81d-4503-b85d-87aef5712278",
   "metadata": {},
   "source": [
    "## 데이터 불러오기"
   ]
  },
  {
   "cell_type": "code",
   "execution_count": 1,
   "id": "263bfa25-5fb5-4ff7-aa2a-6b74ef9d6090",
   "metadata": {},
   "outputs": [],
   "source": [
    "from sklearn import datasets\n",
    "import pandas as pd\n",
    "iris = datasets.load_iris(as_frame=True)"
   ]
  },
  {
   "cell_type": "code",
   "execution_count": 2,
   "id": "0d453ef1-437c-4dfc-a22c-685f74da0ba5",
   "metadata": {},
   "outputs": [],
   "source": [
    "df=iris['data']"
   ]
  },
  {
   "cell_type": "markdown",
   "id": "5432bb3e-39f2-4a6f-941a-dad2612ef269",
   "metadata": {},
   "source": [
    "## 클러스터링 학습하기"
   ]
  },
  {
   "cell_type": "code",
   "execution_count": 27,
   "id": "18561598-2379-4c4b-8413-a6ad59fb0663",
   "metadata": {},
   "outputs": [
    {
     "data": {
      "text/plain": [
       "KMeans()"
      ]
     },
     "execution_count": 27,
     "metadata": {},
     "output_type": "execute_result"
    }
   ],
   "source": [
    "from sklearn.cluster import KMeans\n",
    "kmeans=KMeans()\n",
    "kmeans.fit(df)"
   ]
  },
  {
   "cell_type": "markdown",
   "id": "35c2a29e-7d4b-4111-bc31-9d779c02fbf6",
   "metadata": {},
   "source": [
    "## 중점 확인하기"
   ]
  },
  {
   "cell_type": "code",
   "execution_count": 28,
   "id": "2b623568-debd-4dea-b2f1-f0d15d855451",
   "metadata": {},
   "outputs": [
    {
     "data": {
      "text/plain": [
       "array([[5.24285714, 3.66785714, 1.5       , 0.28214286],\n",
       "       [6.03684211, 2.70526316, 5.        , 1.77894737],\n",
       "       [5.62857143, 2.72380952, 4.13333333, 1.2952381 ],\n",
       "       [6.61666667, 3.07916667, 5.5625    , 2.1375    ],\n",
       "       [6.44210526, 2.97894737, 4.59473684, 1.43157895],\n",
       "       [4.70454545, 3.12272727, 1.41363636, 0.2       ],\n",
       "       [5.24285714, 2.37142857, 3.44285714, 1.02857143],\n",
       "       [7.54      , 3.15      , 6.39      , 2.09      ]])"
      ]
     },
     "execution_count": 28,
     "metadata": {},
     "output_type": "execute_result"
    }
   ],
   "source": [
    "kmeans.cluster_centers_"
   ]
  },
  {
   "cell_type": "code",
   "execution_count": 29,
   "id": "7b09f1c5-a7d5-4762-9965-39b8df7e7582",
   "metadata": {},
   "outputs": [
    {
     "data": {
      "text/plain": [
       "30.110906071998187"
      ]
     },
     "execution_count": 29,
     "metadata": {},
     "output_type": "execute_result"
    }
   ],
   "source": [
    "## 중점과 소속된 점들사이 평균거리 확인\n",
    "kmeans.inertia_"
   ]
  },
  {
   "cell_type": "code",
   "execution_count": 30,
   "id": "101a2b17-ec9e-4246-b109-28d854807810",
   "metadata": {},
   "outputs": [
    {
     "data": {
      "text/plain": [
       "array([0, 5, 5, 5, 0, 0, 5, 0, 5, 5, 0, 5, 5, 5, 0, 0, 0, 0, 0, 0, 0, 0,\n",
       "       5, 0, 5, 5, 0, 0, 0, 5, 5, 0, 0, 0, 5, 5, 0, 0, 5, 0, 0, 5, 5, 0,\n",
       "       0, 5, 0, 5, 0, 5, 4, 4, 4, 2, 4, 2, 4, 6, 4, 2, 6, 2, 2, 4, 2, 4,\n",
       "       2, 2, 1, 2, 1, 2, 1, 4, 4, 4, 4, 4, 4, 6, 6, 6, 2, 1, 2, 4, 4, 4,\n",
       "       2, 2, 2, 4, 2, 6, 2, 2, 2, 4, 6, 2, 3, 1, 3, 3, 3, 7, 2, 7, 3, 7,\n",
       "       3, 1, 3, 1, 1, 3, 3, 7, 7, 1, 3, 1, 7, 1, 3, 7, 1, 1, 3, 3, 7, 7,\n",
       "       3, 1, 1, 7, 3, 3, 1, 3, 3, 3, 1, 3, 3, 3, 1, 3, 3, 1], dtype=int32)"
      ]
     },
     "execution_count": 30,
     "metadata": {},
     "output_type": "execute_result"
    }
   ],
   "source": [
    "# 분류된 점 확인\n",
    "kmeans.labels_"
   ]
  },
  {
   "cell_type": "markdown",
   "id": "da98ca00-e0a3-4002-b16c-d861c3d06376",
   "metadata": {},
   "source": [
    "## K를 바꾸어가며 확인"
   ]
  },
  {
   "cell_type": "code",
   "execution_count": 31,
   "id": "b20c06f7-fcef-4e40-aec8-17ec2d40cce9",
   "metadata": {},
   "outputs": [],
   "source": [
    "cn=[]\n",
    "measure=[]\n",
    "for i in range(1,10):\n",
    "    kmeans= KMeans(n_clusters=i)\n",
    "    kmeans.fit(df)\n",
    "    cn.append(i)\n",
    "    measure.append(kmeans.inertia_)"
   ]
  },
  {
   "cell_type": "code",
   "execution_count": 21,
   "id": "4fdb5b10-6042-4dbd-80fa-880b21703ad2",
   "metadata": {},
   "outputs": [
    {
     "data": {
      "text/plain": [
       "[681.3706,\n",
       " 152.3479517603579,\n",
       " 78.85144142614601,\n",
       " 57.25600931571815,\n",
       " 46.44618205128205,\n",
       " 39.03998724608724,\n",
       " 34.421674242424245,\n",
       " 30.064593073593073,\n",
       " 27.98487343358396]"
      ]
     },
     "execution_count": 21,
     "metadata": {},
     "output_type": "execute_result"
    }
   ],
   "source": [
    "measure"
   ]
  },
  {
   "cell_type": "code",
   "execution_count": 32,
   "id": "e2c0e126-fc7e-4656-93c1-51e5ee3300e2",
   "metadata": {},
   "outputs": [
    {
     "data": {
      "text/plain": [
       "<BarContainer object of 9 artists>"
      ]
     },
     "execution_count": 32,
     "metadata": {},
     "output_type": "execute_result"
    },
    {
     "data": {
      "image/png": "[encoded data removed]",
      "text/plain": [
       "<Figure size 864x432 with 1 Axes>"
      ]
     },
     "metadata": {
      "needs_background": "light"
     },
     "output_type": "display_data"
    }
   ],
   "source": [
    "import matplotlib.pyplot as plt\n",
    "plt.figure(figsize=(12,6))\n",
    "plt.plot(cn,measure,'ro-')\n",
    "plt.bar(cn,measure,tick_label=cn)\n"
   ]
  }
 ],
 "metadata": {
  "kernelspec": {
   "display_name": "Python 3 (ipykernel)",
   "language": "python",
   "name": "python3"
  },
  "language_info": {
   "codemirror_mode": {
    "name": "ipython",
    "version": 3
   },
   "file_extension": ".py",
   "mimetype": "text/x-python",
   "name": "python",
   "nbconvert_exporter": "python",
   "pygments_lexer": "ipython3",
   "version": "3.8.10"
  }
 },
 "nbformat": 4,
 "nbformat_minor": 5
}
